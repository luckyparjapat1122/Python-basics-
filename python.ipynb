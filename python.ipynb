{
  "nbformat": 4,
  "nbformat_minor": 0,
  "metadata": {
    "colab": {
      "provenance": [],
      "authorship_tag": "ABX9TyO9wI4JYCe1q+Wf1yzuQ6yl",
      "include_colab_link": true
    },
    "kernelspec": {
      "name": "python3",
      "display_name": "Python 3"
    },
    "language_info": {
      "name": "python"
    }
  },
  "cells": [
    {
      "cell_type": "markdown",
      "metadata": {
        "id": "view-in-github",
        "colab_type": "text"
      },
      "source": [
        "<a href=\"https://colab.research.google.com/github/luckyparjapat1122/Python-basics-/blob/main/python.ipynb\" target=\"_parent\"><img src=\"https://colab.research.google.com/assets/colab-badge.svg\" alt=\"Open In Colab\"/></a>"
      ]
    },
    {
      "cell_type": "code",
      "execution_count": null,
      "metadata": {
        "colab": {
          "base_uri": "https://localhost:8080/"
        },
        "id": "FLCvLBxaavuE",
        "outputId": "5a92870b-c19c-4e71-aa73-0301783ff7e2"
      },
      "outputs": [
        {
          "output_type": "stream",
          "name": "stdout",
          "text": [
            "Enter English marks:95\n",
            "Enter Math marks:96\n",
            "Enter Physics marks:97\n",
            "Enter Chemistry marks:98\n",
            "Enter Computer science marks:99\n",
            "Total percentage 97.0\n",
            "Grade is A+\n"
          ]
        }
      ],
      "source": [
        "s1=float(input (\"Enter English marks:\"))\n",
        "s2=float(input (\"Enter Math marks:\"))\n",
        "s3=float(input (\"Enter Physics marks:\"))\n",
        "s4=float(input (\"Enter Chemistry marks:\"))\n",
        "s5=float(input (\"Enter Computer science marks:\"))\n",
        "total=((s1+s2+s3+s4+s5)/500)*100\n",
        "print(\"Total percentage\", total)\n",
        "if total>=90:\n",
        " print(\"Grade is A++\")\n",
        "elif total<=89 and total>=80:\n",
        " print(\"Grade is A\")\n",
        "elif total<=79 and total>=70:\n",
        " print(\"Grade is B\")\n",
        "elif total<=69 and total>=50:\n",
        " print(\"Grade is C\")\n",
        "elif total<50:\n",
        " print(\"Grade is D\")"
      ]
    },
    {
      "cell_type": "code",
      "source": [
        "#A simple user login system that checks the username and password.\n",
        "user= (\"admin\", \"Admin\", \"ADMIN\")\n",
        "password = \"admin@123\"\n",
        "u1= input(\"Enter your user name: \")\n",
        "p1= input(\"Enter your password: \")\n",
        "if u1 in user and password == p1:\n",
        " print(\"Login Successful\")\n",
        "elif u1 in user:\n",
        " print(\"Incorrect password but correct username\")\n",
        "elif password == p1:\n",
        " print(\"Incorrect user name but correct password\")\n",
        "else:\n",
        " print(\"Incorrect user name and password\")"
      ],
      "metadata": {
        "id": "S9RQOQ6xxfAs",
        "outputId": "4366ced9-c890-4590-f7f9-cee6771f7c38",
        "colab": {
          "base_uri": "https://localhost:8080/"
        }
      },
      "execution_count": null,
      "outputs": [
        {
          "output_type": "stream",
          "name": "stdout",
          "text": [
            "Enter your user name: ADMIN\n",
            "Enter your password: admin@123\n",
            "Login Successful\n"
          ]
        }
      ]
    }
  ]
}