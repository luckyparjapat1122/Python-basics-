{
  "nbformat": 4,
  "nbformat_minor": 0,
  "metadata": {
    "colab": {
      "provenance": [],
      "authorship_tag": "ABX9TyPvcXubwFRIHUyYE4ST23L8",
      "include_colab_link": true
    },
    "kernelspec": {
      "name": "python3",
      "display_name": "Python 3"
    },
    "language_info": {
      "name": "python"
    }
  },
  "cells": [
    {
      "cell_type": "markdown",
      "metadata": {
        "id": "view-in-github",
        "colab_type": "text"
      },
      "source": [
        "<a href=\"https://colab.research.google.com/github/luckyparjapat1122/Python-basics-/blob/main/python.ipynb\" target=\"_parent\"><img src=\"https://colab.research.google.com/assets/colab-badge.svg\" alt=\"Open In Colab\"/></a>"
      ]
    },
    {
      "cell_type": "code",
      "execution_count": null,
      "metadata": {
        "colab": {
          "base_uri": "https://localhost:8080/"
        },
        "id": "FLCvLBxaavuE",
        "outputId": "0582e1e5-4abe-45ff-d02d-bbcad9261176"
      },
      "outputs": [
        {
          "output_type": "stream",
          "name": "stdout",
          "text": [
            "Enter English marks:83\n",
            "Enter Math marks:78\n",
            "Enter Physics marks:85\n",
            "Enter Chemistry marks:94\n",
            "Enter Computer science marks:99\n",
            "Enter biolog marks95\n",
            "Minimum marks 78.0\n",
            "Total Marks in top five subjects 456.0\n",
            "Total percentage 91.2\n",
            "Grade is A++, EXCELLENT\n"
          ]
        }
      ],
      "source": [
        "# Calculate GRADE SYSTEM Program using conditional statements\n",
        "\n",
        "s1=float(input (\"Enter English marks:\"))\n",
        "s2=float(input (\"Enter Math marks:\"))\n",
        "s3=float(input (\"Enter Physics marks:\"))\n",
        "s4=float(input (\"Enter Chemistry marks:\"))\n",
        "s5=float(input (\"Enter Computer science marks:\"))\n",
        "s6=float(input (\"Enter biolog marks\"))\n",
        "marks=[s1,s2,s3,s4,s5,s6]\n",
        "min_marks= min(marks)\n",
        "print(\"Minimum marks\",min(marks))\n",
        "marks.remove(min(marks))\n",
        "total= sum(marks)\n",
        "print(\"Total Marks in top five subjects\", total)\n",
        "percentage= (total/500)*100\n",
        "print(\"Total percentage\", percentage)\n",
        "if percentage>=90:\n",
        " print(\"Grade is A++, EXCELLENT\")\n",
        "elif percentage>=80:\n",
        " print(\"Grade is A, VERY GOOD\")\n",
        "elif percentage>=70:\n",
        " print(\"Grade is B, GOOD\")\n",
        "elif percentage>=60:\n",
        " print(\"Grade is C, IMPROVE YOURSELF\")\n",
        "elif percentage>=50:\n",
        " print(\"Grade is D, WARMING\")\n",
        "else:\n",
        " print(\"FAIL FAIL FAIL, STRICT WARNING\")"
      ]
    },
    {
      "cell_type": "code",
      "source": [
        "#SIMPLE CALCULATOR\n",
        "a=float(input(\"Enter first number:\"))\n",
        "b=float(input(\"Enter second number:\"))\n",
        "choice=input(\"Enter your choice\")\n",
        "if choice=='+':\n",
        " print(\"Addition of {a} and {b} is:\", a+b)\n",
        "elif choice=='-':\n",
        " print(\"Subtraction of {a} and {b} is:\", a-b)\n",
        "elif choice=='*':\n",
        " print(\"Multiplication of {a} and {b} is:\", a*b)\n",
        "elif choice=='/':\n",
        " print(\"Division of {a} and {b} is:\", a/b)\n",
        "elif choice=='//':\n",
        " print(\"Floor division of {a} and {b} is:\", a//b)\n",
        "elif choice=='%':\n",
        " print(\"Modulus of {a} and {b} is:\", a%b)\n",
        "elif choice=='^':\n",
        " print(\"Exponent of {a} and {b} is:\", a^b)\n",
        "else:\n",
        " print(\"Invalid Operation\")"
      ],
      "metadata": {
        "colab": {
          "base_uri": "https://localhost:8080/"
        },
        "id": "hx-YGs63L59m",
        "outputId": "e404cbf5-023e-4ab7-8655-c2b260cec9d2"
      },
      "execution_count": 26,
      "outputs": [
        {
          "output_type": "stream",
          "name": "stdout",
          "text": [
            "Enter first number:50\n",
            "Enter second number:5\n",
            "Enter your choice//\n",
            "Floor division of {a} and {b} is: 10.0\n"
          ]
        }
      ]
    },
    {
      "cell_type": "code",
      "source": [
        "#A simple user login system that checks the username and password.\n",
        "user= (\"admin\", \"Admin\", \"ADMIN\")\n",
        "password = \"admin@123\"\n",
        "u1= input(\"Enter your user name: \")\n",
        "p1= input(\"Enter your password: \")\n",
        "if u1 in user and password == p1:\n",
        " print(\"Login Successful\")\n",
        "elif u1 in user:\n",
        " print(\"Incorrect password but correct username\")\n",
        "elif password == p1:\n",
        " print(\"Incorrect user name but correct password\")\n",
        "else:\n",
        " print(\"Incorrect user name and password\")"
      ],
      "metadata": {
        "id": "S9RQOQ6xxfAs",
        "outputId": "4366ced9-c890-4590-f7f9-cee6771f7c38",
        "colab": {
          "base_uri": "https://localhost:8080/"
        }
      },
      "execution_count": null,
      "outputs": [
        {
          "output_type": "stream",
          "name": "stdout",
          "text": [
            "Enter your user name: ADMIN\n",
            "Enter your password: admin@123\n",
            "Login Successful\n"
          ]
        }
      ]
    }
  ]
}