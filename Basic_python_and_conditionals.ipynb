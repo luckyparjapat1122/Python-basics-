{
  "nbformat": 4,
  "nbformat_minor": 0,
  "metadata": {
    "colab": {
      "provenance": [],
      "authorship_tag": "ABX9TyMOqFz6vDqve764HJ58iqTM",
      "include_colab_link": true
    },
    "kernelspec": {
      "name": "python3",
      "display_name": "Python 3"
    },
    "language_info": {
      "name": "python"
    }
  },
  "cells": [
    {
      "cell_type": "markdown",
      "metadata": {
        "id": "view-in-github",
        "colab_type": "text"
      },
      "source": [
        "<a href=\"https://colab.research.google.com/github/luckyparjapat1122/Python-basics-/blob/main/Basic_python_and_conditionals.ipynb\" target=\"_parent\"><img src=\"https://colab.research.google.com/assets/colab-badge.svg\" alt=\"Open In Colab\"/></a>"
      ]
    },
    {
      "cell_type": "markdown",
      "source": [
        "**Basic Python and Conditionals**"
      ],
      "metadata": {
        "id": "ZUxGV-essPDN"
      }
    },
    {
      "cell_type": "code",
      "source": [
        "print(\"lucky\")"
      ],
      "metadata": {
        "colab": {
          "base_uri": "https://localhost:8080/"
        },
        "id": "h69_11busij8",
        "outputId": "ef640eb0-5dff-4e43-ba33-3a2a54d5f80e"
      },
      "execution_count": 14,
      "outputs": [
        {
          "output_type": "stream",
          "name": "stdout",
          "text": [
            "lucky\n"
          ]
        }
      ]
    },
    {
      "cell_type": "markdown",
      "source": [
        "**Comments**"
      ],
      "metadata": {
        "id": "xMkRs52Rswq6"
      }
    },
    {
      "cell_type": "code",
      "source": [
        "# This is a single line comments."
      ],
      "metadata": {
        "id": "dNuMzjG8s0qq"
      },
      "execution_count": null,
      "outputs": []
    },
    {
      "cell_type": "code",
      "source": [
        "''' This is multi line comment\n",
        "my name is lucky '''\n",
        "print('hi')"
      ],
      "metadata": {
        "colab": {
          "base_uri": "https://localhost:8080/"
        },
        "id": "DhOl8klxstTE",
        "outputId": "fb6cf3c9-e7ac-4a24-8b78-38e153355c46"
      },
      "execution_count": 17,
      "outputs": [
        {
          "output_type": "stream",
          "name": "stdout",
          "text": [
            "hi\n"
          ]
        }
      ]
    },
    {
      "cell_type": "markdown",
      "source": [
        "**Variables**:- A variable is like a container to store a data."
      ],
      "metadata": {
        "id": "eJBCEnPutkoR"
      }
    },
    {
      "cell_type": "code",
      "source": [
        "# Declaration and assigning variables\n",
        "a=5\n",
        "print(a)\n",
        "print(type(a))"
      ],
      "metadata": {
        "colab": {
          "base_uri": "https://localhost:8080/"
        },
        "id": "98b1Erphtm9F",
        "outputId": "4087cf5f-010e-41b1-c1ee-83ffaf0a4281"
      },
      "execution_count": 18,
      "outputs": [
        {
          "output_type": "stream",
          "name": "stdout",
          "text": [
            "5\n",
            "<class 'int'>\n"
          ]
        }
      ]
    },
    {
      "cell_type": "code",
      "source": [
        "c=\"lucky parjapati\"\n",
        "print(c)\n",
        "print(type(c))"
      ],
      "metadata": {
        "colab": {
          "base_uri": "https://localhost:8080/"
        },
        "id": "eW8d9ST1uQBY",
        "outputId": "517d4d3b-fd53-4007-b488-bd3a12f5f6c1"
      },
      "execution_count": 19,
      "outputs": [
        {
          "output_type": "stream",
          "name": "stdout",
          "text": [
            "lucky parjapati\n",
            "<class 'str'>\n"
          ]
        }
      ]
    },
    {
      "cell_type": "code",
      "source": [
        "# Valid or invalid variables names\n",
        "# valid:- Only start character and underscore\n",
        "# Invalid:- Don't start any number, special character/ symbol.\n",
        "_a = 5\n",
        "print(_a)"
      ],
      "metadata": {
        "colab": {
          "base_uri": "https://localhost:8080/"
        },
        "id": "XVabVPZFuoHL",
        "outputId": "d5e25c34-f8ec-49f2-9e28-e182a9bb7c9d"
      },
      "execution_count": 20,
      "outputs": [
        {
          "output_type": "stream",
          "name": "stdout",
          "text": [
            "5\n"
          ]
        }
      ]
    },
    {
      "cell_type": "code",
      "source": [
        "# Case sensitivity in python\n",
        "# yes python is a case sensitive language\n",
        "name = 'lucky'\n",
        "print(name)\n"
      ],
      "metadata": {
        "colab": {
          "base_uri": "https://localhost:8080/"
        },
        "id": "faZZzF1TveyS",
        "outputId": "0097a299-3aa5-461e-8cb2-487657442463"
      },
      "execution_count": 24,
      "outputs": [
        {
          "output_type": "stream",
          "name": "stdout",
          "text": [
            "lucky\n"
          ]
        }
      ]
    },
    {
      "cell_type": "code",
      "source": [
        "'''\n",
        "Understanding variable types\n",
        "Python is dynamically typed language\n",
        "means python interpreter automatically understand the data type of a variable,\n",
        "and type of a variable is determined at runtime'''\n",
        "my_variable = 10                 # my_variable is an integer\n",
        "print(type(my_variable))\n",
        "my_variable = \"Lucky Parjapati\"           # Now, my_variable is a string\n",
        "print(type(my_variable))\n",
        "print (my_variable)"
      ],
      "metadata": {
        "colab": {
          "base_uri": "https://localhost:8080/"
        },
        "id": "L8gNY9HCv6ut",
        "outputId": "2566505b-1aff-4811-e8fa-f2d8e5cd7409"
      },
      "execution_count": 27,
      "outputs": [
        {
          "output_type": "stream",
          "name": "stdout",
          "text": [
            "<class 'int'>\n",
            "<class 'str'>\n",
            "Lucky Parjapati\n"
          ]
        }
      ]
    },
    {
      "cell_type": "code",
      "source": [
        "# Type Conversion\n",
        "a = 10\n",
        "print(type(a)\n",
        ")\n"
      ],
      "metadata": {
        "colab": {
          "base_uri": "https://localhost:8080/"
        },
        "id": "rsAB08NUyueR",
        "outputId": "c497950d-deea-45cd-b503-d3b680ec35d4"
      },
      "execution_count": 30,
      "outputs": [
        {
          "output_type": "stream",
          "name": "stdout",
          "text": [
            "<class 'int'>\n"
          ]
        }
      ]
    },
    {
      "cell_type": "code",
      "source": [
        "b = float(a)\n",
        "print(type(b))"
      ],
      "metadata": {
        "colab": {
          "base_uri": "https://localhost:8080/"
        },
        "id": "tXunQJ5dzCSk",
        "outputId": "1c1ada02-85c3-4a42-f900-5161d4b2ec85"
      },
      "execution_count": 31,
      "outputs": [
        {
          "output_type": "stream",
          "name": "stdout",
          "text": [
            "<class 'float'>\n"
          ]
        }
      ]
    },
    {
      "cell_type": "code",
      "source": [
        "c = str(b)\n",
        "print(type(c))"
      ],
      "metadata": {
        "colab": {
          "base_uri": "https://localhost:8080/"
        },
        "id": "Cp5eL2ZqzZ4D",
        "outputId": "500a853d-b00c-4a95-cc99-65c43b0b7c0b"
      },
      "execution_count": 35,
      "outputs": [
        {
          "output_type": "stream",
          "name": "stdout",
          "text": [
            "<class 'str'>\n"
          ]
        }
      ]
    },
    {
      "cell_type": "code",
      "source": [
        "# Variable reinitialization\n",
        "x = 7\n",
        "x = 12.45\n",
        "x = 'lucky'\n",
        "print(x)"
      ],
      "metadata": {
        "colab": {
          "base_uri": "https://localhost:8080/"
        },
        "id": "42UCJjxYznr5",
        "outputId": "8b57a00c-a8e5-4bfd-c24f-0ce8b4030189"
      },
      "execution_count": 36,
      "outputs": [
        {
          "output_type": "stream",
          "name": "stdout",
          "text": [
            "lucky\n"
          ]
        }
      ]
    },
    {
      "cell_type": "code",
      "source": [
        "# Input function\n",
        "a= int(input(\"enter the number:\"))\n",
        "print(a)\n",
        "print(type(a))"
      ],
      "metadata": {
        "colab": {
          "base_uri": "https://localhost:8080/"
        },
        "id": "TVkzpofp1gyB",
        "outputId": "8a827b2f-2537-4fc8-b6b2-6a1b03402aa5"
      },
      "execution_count": 38,
      "outputs": [
        {
          "output_type": "stream",
          "name": "stdout",
          "text": [
            "enter the number:5\n",
            "5\n",
            "<class 'int'>\n"
          ]
        }
      ]
    },
    {
      "cell_type": "code",
      "source": [
        "name = input(\"enter your name:\")\n",
        "print(\"Hello,\" + name)\n",
        "print(type(name))\n"
      ],
      "metadata": {
        "colab": {
          "base_uri": "https://localhost:8080/"
        },
        "id": "LgDEd6D72R4E",
        "outputId": "19d5953c-67cd-4bf0-bff4-b68b46abd742"
      },
      "execution_count": 40,
      "outputs": [
        {
          "output_type": "stream",
          "name": "stdout",
          "text": [
            "enter your name:lucky\n",
            "Hello,lucky\n",
            "<class 'str'>\n"
          ]
        }
      ]
    },
    {
      "cell_type": "code",
      "source": [
        "# Understanding different data types\n",
        "# int\n",
        "# float\n",
        "# bool\n",
        "# string"
      ],
      "metadata": {
        "id": "AIdDU6Dj3MzU"
      },
      "execution_count": null,
      "outputs": []
    },
    {
      "cell_type": "code",
      "source": [
        "# Adding two different datatypes\n",
        "a = 5\n",
        "b = 5.7\n",
        "c = a+b\n",
        "print(c)\n",
        "print(type(c))"
      ],
      "metadata": {
        "colab": {
          "base_uri": "https://localhost:8080/"
        },
        "id": "GPFNZ3rc3tPD",
        "outputId": "7935300b-02cd-448b-eaa8-98b447f04606"
      },
      "execution_count": 46,
      "outputs": [
        {
          "output_type": "stream",
          "name": "stdout",
          "text": [
            "10.7\n",
            "<class 'float'>\n"
          ]
        }
      ]
    },
    {
      "cell_type": "code",
      "source": [
        "c = 'lucky'\n",
        "d = c + str(5)\n",
        "print(d)\n",
        "print(type(d))"
      ],
      "metadata": {
        "colab": {
          "base_uri": "https://localhost:8080/"
        },
        "id": "XzLv1DyW3_MR",
        "outputId": "3e22ea99-90d6-45d9-d284-0a0d50326106"
      },
      "execution_count": 53,
      "outputs": [
        {
          "output_type": "stream",
          "name": "stdout",
          "text": [
            "lucky5\n",
            "<class 'str'>\n"
          ]
        }
      ]
    },
    {
      "cell_type": "markdown",
      "source": [
        "# **Operators**"
      ],
      "metadata": {
        "id": "_0HGdxPZ4ggb"
      }
    },
    {
      "cell_type": "code",
      "source": [
        "# Arithmetic Operators\n",
        "'''\n",
        "+\tAddition\tx + y\n",
        "-\tSubtraction\tx - y\n",
        "*\tMultiplication\tx * y\n",
        "/\tDivision\tx / y\n",
        "// Floor Division x//y\n",
        "%\tModulus\tx % y\n",
        "**\tExponentiation\tx ** y\n",
        "'''\n",
        "x = int(input(\"Enter first number:\"))\n",
        "y = int(input(\"Enter second number:\"))\n",
        "print(x+y)\n",
        "print(x-y)\n",
        "print(x*y)\n",
        "print(x/y)  # Quotients\n",
        "print(x//y) # Quotients without decimal\n",
        "print(x%y)  # Remainder\n",
        "print(x**y)  # Power"
      ],
      "metadata": {
        "id": "UQHAKms54c5y",
        "colab": {
          "base_uri": "https://localhost:8080/"
        },
        "outputId": "d52ce58a-ce20-4322-d2b8-8b4fb9e7e4d2"
      },
      "execution_count": 56,
      "outputs": [
        {
          "output_type": "stream",
          "name": "stdout",
          "text": [
            "Enter first number:4\n",
            "Enter second number:2\n",
            "6\n",
            "2\n",
            "8\n",
            "2.0\n",
            "2\n",
            "0\n",
            "16\n"
          ]
        }
      ]
    },
    {
      "cell_type": "code",
      "source": [
        "# Comparison Operators\n",
        "'''\n",
        "==\tEqual\tx == y\n",
        "!=\tNot equal\tx != y\n",
        ">\tGreater than\tx > y\n",
        "<\tLess than\tx < y\n",
        ">=\tGreater than or equal to\tx >= y\n",
        "<=\tLess than or equal to\tx <= y\n",
        "'''\n",
        "print(x==y)\n",
        "print(x!=y)\n",
        "print(x>y)\n",
        "print(x<y)\n",
        "print(x>=y)  # Minimum one condition True.\n",
        "print(x<=y)  # Minimum one condition True."
      ],
      "metadata": {
        "colab": {
          "base_uri": "https://localhost:8080/"
        },
        "id": "_EVKKsQJlC_h",
        "outputId": "49b2ec61-00f3-419f-fc4f-86c78909cfec"
      },
      "execution_count": 57,
      "outputs": [
        {
          "output_type": "stream",
          "name": "stdout",
          "text": [
            "False\n",
            "True\n",
            "True\n",
            "False\n",
            "True\n",
            "False\n"
          ]
        }
      ]
    },
    {
      "cell_type": "code",
      "source": [
        "# Logical Operators\n",
        "# and\n",
        "# or\n",
        "# not\n",
        "a = 10\n",
        "b = 5\n",
        "print(a>b and a!=b)         # Both conditions are true.\n",
        "print(a==b or a!=b)         # Minimum one condition is true.\n",
        "print(not (a>b and a!=b))   # Reverse the output True➡️False, False➡️True.\n"
      ],
      "metadata": {
        "colab": {
          "base_uri": "https://localhost:8080/"
        },
        "id": "tPahfyJkmUul",
        "outputId": "79f5055f-4765-4d6c-e14f-e4c3b7bc223c"
      },
      "execution_count": 59,
      "outputs": [
        {
          "output_type": "stream",
          "name": "stdout",
          "text": [
            "True\n",
            "True\n",
            "False\n"
          ]
        }
      ]
    },
    {
      "cell_type": "markdown",
      "source": [
        "** 1) SIMPLE CALCULATOR PROGRAM**"
      ],
      "metadata": {
        "id": "iWQQUfjqoQ_w"
      }
    },
    {
      "cell_type": "code",
      "source": [
        "# Create a simple calculator program taking 2 inputs\n",
        "# from user and printing different arithemtic outputs.\n",
        "a = int (input(\"Enter fist number:\"))\n",
        "b = int (input(\"Enter second number:\"))\n",
        "print(f\"Addition of {a} and {b} is {a+b}\")\n",
        "print(f\"Subtraction of {a} and {b} is {a-b}\")\n",
        "print(f\"Multiplication of {a} and {b} is {a*b}\")\n",
        "print(f\"Division of {a} and {b} is {a/b}\")\n",
        "print(f\"Floor Division of {a} and {b} is {a//b}\")\n",
        "print(f\"Modulus/Remainder of {a} and {b} is {a%b}\")\n",
        "print(f\"Exponent/Power of {a} and {b} is {a**b}\")\n"
      ],
      "metadata": {
        "colab": {
          "base_uri": "https://localhost:8080/"
        },
        "id": "hgbtpA8MoP88",
        "outputId": "46da6694-f2ee-4e43-b0ae-05f4634d8191"
      },
      "execution_count": null,
      "outputs": [
        {
          "output_type": "stream",
          "name": "stdout",
          "text": [
            "Enter fist number:10\n",
            "Enter second number:5\n",
            "Addition of 10 and 5 is 15\n",
            "Subtraction of 10 and 5 is 5\n",
            "Multiplication of 10 and 5 is 50\n",
            "Division of 10 and 5 is 2.0\n",
            "Floor Division of 10 and 5 is 2\n",
            "Modulus/Remainder of 10 and 5 is 0\n",
            "Exponent/Power of 10 and 5 is 100000\n"
          ]
        }
      ]
    },
    {
      "cell_type": "markdown",
      "source": [
        "**CONDITIONAL STATEMENTS**"
      ],
      "metadata": {
        "id": "NIiNB7Hqr5ix"
      }
    },
    {
      "cell_type": "code",
      "source": [
        "# Decision making statements\n",
        "a = 1\n",
        "if a>5:\n",
        "  print(\"a is greater than 5\")\n",
        "else:\n",
        "  print(\"a is less than 5\")"
      ],
      "metadata": {
        "colab": {
          "base_uri": "https://localhost:8080/"
        },
        "id": "G3js0PaBr3He",
        "outputId": "89169e1f-6b18-40c2-f92e-a86b17a95ea6"
      },
      "execution_count": 60,
      "outputs": [
        {
          "output_type": "stream",
          "name": "stdout",
          "text": [
            "a is less than 5\n"
          ]
        }
      ]
    },
    {
      "cell_type": "markdown",
      "source": [
        "**2) WRITE A PROGRAM TO FIND THE NUMBER IS EVEN OR NOT **"
      ],
      "metadata": {
        "id": "bplrvMIVtIvO"
      }
    },
    {
      "cell_type": "code",
      "source": [
        "a = int(input(\"Enter the number: \"))\n",
        "if a%2==0:\n",
        "  print(f\"The number {a} is even.\")\n",
        "else:\n",
        "  print(f\"The number {a} is odd.\")\n"
      ],
      "metadata": {
        "colab": {
          "base_uri": "https://localhost:8080/"
        },
        "id": "W1i4PUwDs8Bs",
        "outputId": "9a64f2d0-4251-4c62-b153-4a42dfc02ad9"
      },
      "execution_count": 62,
      "outputs": [
        {
          "output_type": "stream",
          "name": "stdout",
          "text": [
            "Enter the number: 10\n",
            "The number 10 is even.\n"
          ]
        }
      ]
    },
    {
      "cell_type": "code",
      "source": [
        "# elif\n",
        "'''\n",
        "if condition:\n",
        "  statement\n",
        "elif condition:\n",
        "  statement\n",
        "else:\n",
        "  statement\n",
        "'''"
      ],
      "metadata": {
        "id": "7KF_f3AjxULi"
      },
      "execution_count": null,
      "outputs": []
    },
    {
      "cell_type": "code",
      "source": [
        "# Nested conditonals\n",
        "# Number EVEN, ODD, NEGATIVE\n",
        "a = int(input(\"Enter the number: \"))\n",
        "if a>0:\n",
        "  if a%2==0:\n",
        "    print(f\"The number {a} is Even and Positive.\")\n",
        "  else:\n",
        "    print(f\"The number {a} is Odd and Positive.\")\n",
        "else:\n",
        "  if a%2==0:\n",
        "    print(f\"The number {a} is Even and Negative.\")\n",
        "  else:\n",
        "    print(f\"The number {a} is Odd and Negative.\")\n"
      ],
      "metadata": {
        "colab": {
          "base_uri": "https://localhost:8080/"
        },
        "id": "eVM7HnHsx3nb",
        "outputId": "f4fb25ff-be95-4f1d-da4c-0f7013623a23"
      },
      "execution_count": 78,
      "outputs": [
        {
          "output_type": "stream",
          "name": "stdout",
          "text": [
            "Enter the number: -9\n",
            "The number -9 is Odd and Negative.\n"
          ]
        }
      ]
    },
    {
      "cell_type": "markdown",
      "source": [
        "**1) Simple Calculator program to\n",
        "Take user input for operation using Conditional statements.**"
      ],
      "metadata": {
        "id": "eOlGvMn-1IcY"
      }
    },
    {
      "cell_type": "code",
      "source": [
        "a = int(input(\"Enter first number:\"))\n",
        "b = int(input(\"Enter second number:\"))\n",
        "choice = input(\"Enter your choice:\")\n",
        "if choice=='+':\n",
        "  print(f'Addition of {a} and {b} is {a+b}')\n",
        "elif choice=='-':\n",
        "  print(f'Subtraction of {a} and {b} is {a-b}')\n",
        "elif choice==\"*\":\n",
        "  print(f\"Multiplication of {a} and {b} is {a*b}\")\n",
        "elif choice==\"/\":\n",
        "  print(f\"Division of {a} and {b} is {a/b}\")\n",
        "elif choice==\"//\":\n",
        "  print(f\"Floor Division of {a} and {b} is {a//b}\")\n",
        "elif choice==\"%\":\n",
        "  print(f\"Modulus/Remainder of {a} and {b} is {a%b}\")\n",
        "elif choice==\"**\":\n",
        "  print(f\"Exponent/Power of {a} and {b} is {a**b}\")\n",
        "else:\n",
        "  print(\"Invalid choice\")\n"
      ],
      "metadata": {
        "colab": {
          "base_uri": "https://localhost:8080/"
        },
        "id": "Vd8R4pba1kc5",
        "outputId": "4c1a561a-1fb2-4727-d08d-a5f0f6afc4cf"
      },
      "execution_count": null,
      "outputs": [
        {
          "output_type": "stream",
          "name": "stdout",
          "text": [
            "Enter first number:10\n",
            "Enter second number:5\n",
            "Enter your choice:/\n",
            "Division of 10 and 5 is 2.0\n"
          ]
        }
      ]
    },
    {
      "cell_type": "markdown",
      "source": [
        "**2) A simple user login system that checks the username and password.**\n",
        "\n",
        "user = \"admin\"\n",
        "\n",
        "password = \"admin@123\""
      ],
      "metadata": {
        "id": "uBvRgeBO30PD"
      }
    },
    {
      "cell_type": "code",
      "source": [
        "user = \"lucky\"\n",
        "password = \"lucky@1234\"\n",
        "\n",
        "a = input(\"Enter your username:\")\n",
        "b = input(\"Enter your password:\")\n",
        "\n",
        "if user==a and password==b:\n",
        "  print(\"Login Successful\")\n",
        "elif user==a and password!=b:\n",
        "  print(\"Invalid password\")\n",
        "elif user!=a and password==b:\n",
        "  print(\"Invalid username\")\n",
        "else:\n",
        "  print(\"Invalid username and password\")"
      ],
      "metadata": {
        "id": "L4sGcNSV2qUK",
        "colab": {
          "base_uri": "https://localhost:8080/"
        },
        "outputId": "6258d5af-6bef-4d7b-befc-df2887e6de1d"
      },
      "execution_count": 79,
      "outputs": [
        {
          "output_type": "stream",
          "name": "stdout",
          "text": [
            "Enter your username:lucky\n",
            "Enter your password:lucky@1234\n",
            "Login Successful\n"
          ]
        }
      ]
    },
    {
      "cell_type": "markdown",
      "source": [
        "**3) Write a program to calculate the grade of the marks using Conditional statements.**"
      ],
      "metadata": {
        "id": "NBp6eyuj4mLN"
      }
    },
    {
      "cell_type": "code",
      "source": [
        "name = input(\"Enter your name:\")\n",
        "m1 = float(input(\"Enter your English marks:\"))\n",
        "m2 = float(input(\"Enter your Physics marks:\"))\n",
        "m3 = float(input(\"Enter your Chemistry marks:\"))\n",
        "m5 = float(input(\"Enter your Computer Science marks:\"))\n",
        "m4 = float(input(\"Enter your Mathematics/Biology marks:\"))\n",
        "total = m1+m2+m3+m4+m5\n",
        "percentage = (total/500)*100\n",
        "# {percentage:.2f}% means take two number after the decimal.\n",
        "print(f\"{name} your total marks are {total} and your percentage is {percentage:.2f}%.\")\n",
        "\n",
        "if m1<33 or m2<33 or m3<33 or m4<33 or m5<33:\n",
        "  print(f\"{name} you have failed due to less than 33 marks in one or more subjects.\")\n",
        "\n",
        "else:\n",
        "    if percentage >=90:\n",
        "      print(f\"{name} your grade is A+\")\n",
        "      print(\"Excellent Performance\")\n",
        "    elif percentage >=80:\n",
        "      print(f\"{name} your grade is A\")\n",
        "      print(\"Very Good\")\n",
        "    elif percentage >=70:\n",
        "      print(f\"{name} your grade is B\")\n",
        "      print(\"Good\")\n",
        "    elif percentage >=50:\n",
        "      print(f\"{name} your grade is C\")\n",
        "      print(\"Keep working hard\")\n",
        "    else:\n",
        "      print(f\"{name} your grade is D\")\n",
        "      print(\"Needs Imrovement\")\n"
      ],
      "metadata": {
        "id": "YdIGlDT_4oQd",
        "colab": {
          "base_uri": "https://localhost:8080/"
        },
        "outputId": "0f3b8581-b9a2-4dc9-93e0-990d3f140b91"
      },
      "execution_count": 80,
      "outputs": [
        {
          "output_type": "stream",
          "name": "stdout",
          "text": [
            "Enter your name:Lucky Parjapati\n",
            "Enter your English marks:83\n",
            "Enter your Physics marks:85\n",
            "Enter your Chemistry marks:94\n",
            "Enter your Computer Science marks:99\n",
            "Enter your Mathematics/Biology marks:78\n",
            "Lucky Parjapati your total marks are 439.0 and your percentage is 87.80%.\n",
            "Lucky Parjapati your grade is A\n",
            "Very Good\n"
          ]
        }
      ]
    }
  ]
}