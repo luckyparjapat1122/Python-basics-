{
  "nbformat": 4,
  "nbformat_minor": 0,
  "metadata": {
    "colab": {
      "provenance": [],
      "authorship_tag": "ABX9TyNE7l2V7M7TrH4rYMMQUIvk",
      "include_colab_link": true
    },
    "kernelspec": {
      "name": "python3",
      "display_name": "Python 3"
    },
    "language_info": {
      "name": "python"
    }
  },
  "cells": [
    {
      "cell_type": "markdown",
      "metadata": {
        "id": "view-in-github",
        "colab_type": "text"
      },
      "source": [
        "<a href=\"https://colab.research.google.com/github/luckyparjapat1122/Python-basics-/blob/main/Basic_python_and_conditionals.ipynb\" target=\"_parent\"><img src=\"https://colab.research.google.com/assets/colab-badge.svg\" alt=\"Open In Colab\"/></a>"
      ]
    },
    {
      "cell_type": "markdown",
      "source": [
        "**Basic Python and Conditionals**"
      ],
      "metadata": {
        "id": "ZUxGV-essPDN"
      }
    },
    {
      "cell_type": "code",
      "source": [
        "print(\"lucky\")"
      ],
      "metadata": {
        "colab": {
          "base_uri": "https://localhost:8080/"
        },
        "id": "h69_11busij8",
        "outputId": "60804196-d678-441a-f111-7e1c048ce956"
      },
      "execution_count": null,
      "outputs": [
        {
          "output_type": "stream",
          "name": "stdout",
          "text": [
            "lucky\n"
          ]
        }
      ]
    },
    {
      "cell_type": "markdown",
      "source": [
        "**Comments**"
      ],
      "metadata": {
        "id": "xMkRs52Rswq6"
      }
    },
    {
      "cell_type": "code",
      "source": [
        "# This is a single line comments."
      ],
      "metadata": {
        "id": "dNuMzjG8s0qq"
      },
      "execution_count": null,
      "outputs": []
    },
    {
      "cell_type": "code",
      "source": [
        "''' This is multi line comment\n",
        "my name is lucky '''\n",
        "print('hi')"
      ],
      "metadata": {
        "colab": {
          "base_uri": "https://localhost:8080/"
        },
        "id": "DhOl8klxstTE",
        "outputId": "bb4db48d-dbdf-41b6-e4b0-cbb59701b2b2"
      },
      "execution_count": null,
      "outputs": [
        {
          "output_type": "stream",
          "name": "stdout",
          "text": [
            "hi\n"
          ]
        }
      ]
    },
    {
      "cell_type": "markdown",
      "source": [
        "**Variables**:- A variable is like a container to store a data."
      ],
      "metadata": {
        "id": "eJBCEnPutkoR"
      }
    },
    {
      "cell_type": "code",
      "source": [
        "# Declaration and assigning variables\n",
        "a=5\n",
        "print(a)\n",
        "print(type(a))"
      ],
      "metadata": {
        "colab": {
          "base_uri": "https://localhost:8080/"
        },
        "id": "98b1Erphtm9F",
        "outputId": "0204b0fa-a654-4e40-e7e4-b684f8f4a639"
      },
      "execution_count": null,
      "outputs": [
        {
          "output_type": "stream",
          "name": "stdout",
          "text": [
            "5\n",
            "<class 'int'>\n"
          ]
        }
      ]
    },
    {
      "cell_type": "code",
      "source": [
        "c=\"lucky parjapati\"\n",
        "print(c)\n",
        "print(type(c))"
      ],
      "metadata": {
        "colab": {
          "base_uri": "https://localhost:8080/"
        },
        "id": "eW8d9ST1uQBY",
        "outputId": "e46ea2ee-16a1-4ed8-e4ce-3b564e075250"
      },
      "execution_count": null,
      "outputs": [
        {
          "output_type": "stream",
          "name": "stdout",
          "text": [
            "lucky parjapati\n",
            "<class 'str'>\n"
          ]
        }
      ]
    },
    {
      "cell_type": "code",
      "source": [
        "# Valid or invalid variables names\n",
        "# valid:- Only start character and underscore\n",
        "# Invalid:- Don't start any number, special character/ symbol.\n",
        "_a = 5\n",
        "print(_a)"
      ],
      "metadata": {
        "colab": {
          "base_uri": "https://localhost:8080/"
        },
        "id": "XVabVPZFuoHL",
        "outputId": "252f3071-4bd1-471d-821b-5635ebfa1c0a"
      },
      "execution_count": null,
      "outputs": [
        {
          "output_type": "stream",
          "name": "stdout",
          "text": [
            "5\n"
          ]
        }
      ]
    },
    {
      "cell_type": "code",
      "source": [
        "# Case sensitivity in python\n",
        "# yes python is a case sensitive language\n",
        "name = 'lucky'\n",
        "print(name)\n"
      ],
      "metadata": {
        "colab": {
          "base_uri": "https://localhost:8080/"
        },
        "id": "faZZzF1TveyS",
        "outputId": "a8c2f3f4-df9e-4a60-d861-8698ae7c8b1d"
      },
      "execution_count": null,
      "outputs": [
        {
          "output_type": "stream",
          "name": "stdout",
          "text": [
            "lucky\n"
          ]
        }
      ]
    },
    {
      "cell_type": "code",
      "source": [
        "'''\n",
        "Understanding variable types\n",
        "Python is dynamically typed language\n",
        "means python interpreter automatically refers the data type of a variable,\n",
        "and type of a variable is determined at runtime'''\n",
        "my_variable = 10                 # my_variable is an integer\n",
        "print(type(my_variable))\n",
        "my_variable = \"Lucky Parjapati\"           # Now, my_variable is a string\n",
        "print(type(my_variable))"
      ],
      "metadata": {
        "colab": {
          "base_uri": "https://localhost:8080/"
        },
        "id": "L8gNY9HCv6ut",
        "outputId": "08f32b31-96ff-46f9-a8c6-13721b978fc5"
      },
      "execution_count": null,
      "outputs": [
        {
          "output_type": "stream",
          "name": "stdout",
          "text": [
            "<class 'int'>\n",
            "<class 'str'>\n"
          ]
        }
      ]
    },
    {
      "cell_type": "code",
      "source": [
        "# Type Conversion\n",
        "a = 10\n",
        "print(type(a))\n"
      ],
      "metadata": {
        "colab": {
          "base_uri": "https://localhost:8080/"
        },
        "id": "rsAB08NUyueR",
        "outputId": "65759615-e5a1-4bf0-dcf3-c431784cca43"
      },
      "execution_count": null,
      "outputs": [
        {
          "output_type": "stream",
          "name": "stdout",
          "text": [
            "<class 'int'>\n"
          ]
        }
      ]
    },
    {
      "cell_type": "code",
      "source": [
        "b = float(a)\n",
        "print(type(b))"
      ],
      "metadata": {
        "colab": {
          "base_uri": "https://localhost:8080/"
        },
        "id": "tXunQJ5dzCSk",
        "outputId": "8bfe4bf4-eb78-42bc-86ab-1d6c3d782b49"
      },
      "execution_count": null,
      "outputs": [
        {
          "output_type": "stream",
          "name": "stdout",
          "text": [
            "<class 'float'>\n"
          ]
        }
      ]
    },
    {
      "cell_type": "code",
      "source": [
        "c = str(b)\n",
        "print(type(c))"
      ],
      "metadata": {
        "colab": {
          "base_uri": "https://localhost:8080/"
        },
        "id": "Cp5eL2ZqzZ4D",
        "outputId": "427d50bf-7840-4052-cc6d-3ee2842f021e"
      },
      "execution_count": null,
      "outputs": [
        {
          "output_type": "stream",
          "name": "stdout",
          "text": [
            "<class 'str'>\n"
          ]
        }
      ]
    },
    {
      "cell_type": "code",
      "source": [
        "# Variable reinitialization\n",
        "x = 7\n",
        "x = 12.45\n",
        "x = 'lucky'\n",
        "print(x)"
      ],
      "metadata": {
        "colab": {
          "base_uri": "https://localhost:8080/"
        },
        "id": "42UCJjxYznr5",
        "outputId": "3c13cb01-77fd-4196-c4cc-72547b5f527b"
      },
      "execution_count": null,
      "outputs": [
        {
          "output_type": "stream",
          "name": "stdout",
          "text": [
            "lucky\n"
          ]
        }
      ]
    },
    {
      "cell_type": "code",
      "source": [
        "# Input function\n",
        "a= int(input(\"enter the number:\"))\n",
        "print(a)\n",
        "print(type(a))"
      ],
      "metadata": {
        "colab": {
          "base_uri": "https://localhost:8080/"
        },
        "id": "TVkzpofp1gyB",
        "outputId": "c2092ed0-54ee-4bfe-cba9-6add074db5fc"
      },
      "execution_count": null,
      "outputs": [
        {
          "output_type": "stream",
          "name": "stdout",
          "text": [
            "enter the number:5\n",
            "5\n",
            "<class 'int'>\n"
          ]
        }
      ]
    },
    {
      "cell_type": "code",
      "source": [
        "name = input(\"enter your name:\")\n",
        "print(\"Hello,\" + name)\n",
        "print(type(name))\n"
      ],
      "metadata": {
        "colab": {
          "base_uri": "https://localhost:8080/"
        },
        "id": "LgDEd6D72R4E",
        "outputId": "72cec3db-386d-4035-d7fe-1d71911e20a6"
      },
      "execution_count": null,
      "outputs": [
        {
          "output_type": "stream",
          "name": "stdout",
          "text": [
            "enter your name:lucky\n",
            "Hello,lucky\n",
            "<class 'str'>\n"
          ]
        }
      ]
    },
    {
      "cell_type": "code",
      "source": [
        "# Understanding different data types\n",
        "# int\n",
        "# float\n",
        "# bool\n",
        "# string"
      ],
      "metadata": {
        "id": "AIdDU6Dj3MzU"
      },
      "execution_count": null,
      "outputs": []
    },
    {
      "cell_type": "code",
      "source": [
        "# Adding two different datatypes\n",
        "a = 5\n",
        "b = 5.7\n",
        "print(a+b)\n",
        "print(type(a+b))"
      ],
      "metadata": {
        "colab": {
          "base_uri": "https://localhost:8080/"
        },
        "id": "GPFNZ3rc3tPD",
        "outputId": "6e05fe3b-6c76-46a3-8357-a03a1fe5e8f2"
      },
      "execution_count": null,
      "outputs": [
        {
          "output_type": "stream",
          "name": "stdout",
          "text": [
            "10.7\n",
            "<class 'float'>\n"
          ]
        }
      ]
    },
    {
      "cell_type": "code",
      "source": [
        "c = 'lucky'\n",
        "d = c + str(5)\n",
        "print(d)\n",
        "print(type(d))"
      ],
      "metadata": {
        "colab": {
          "base_uri": "https://localhost:8080/"
        },
        "id": "XzLv1DyW3_MR",
        "outputId": "f36020fa-f550-4a7f-c4a0-f97121d5fcb0"
      },
      "execution_count": null,
      "outputs": [
        {
          "output_type": "stream",
          "name": "stdout",
          "text": [
            "lucky5\n",
            "<class 'str'>\n"
          ]
        }
      ]
    },
    {
      "cell_type": "markdown",
      "source": [
        "# **Operators**"
      ],
      "metadata": {
        "id": "_0HGdxPZ4ggb"
      }
    },
    {
      "cell_type": "code",
      "source": [
        "# Arithmetic Operators\n",
        "'''\n",
        "+\tAddition\tx + y\n",
        "-\tSubtraction\tx - y\n",
        "*\tMultiplication\tx * y\n",
        "/\tDivision\tx / y\n",
        "// Floor Division x//y\n",
        "%\tModulus\tx % y\n",
        "**\tExponentiation\tx ** y\n",
        "'''\n",
        "x = int(input(\"Enter first number:\"))\n",
        "y = int(input(\"Enter second number:\"))\n",
        "print(x+y)\n",
        "print(x-y)\n",
        "print(x*y)\n",
        "print(x/y)  # Quotients\n",
        "print(x/y) # Quotients without decimal\n",
        "print(x%y)  # Remainder\n",
        "print(x**y)  # Power"
      ],
      "metadata": {
        "id": "UQHAKms54c5y",
        "colab": {
          "base_uri": "https://localhost:8080/"
        },
        "outputId": "df34c6f2-cb71-4bcc-cfb2-f9b891565839"
      },
      "execution_count": null,
      "outputs": [
        {
          "output_type": "stream",
          "name": "stdout",
          "text": [
            "Enter first number:10\n",
            "Enter second number:5\n",
            "15\n",
            "5\n",
            "50\n",
            "2.0\n",
            "2.0\n",
            "0\n",
            "100000\n"
          ]
        }
      ]
    },
    {
      "cell_type": "code",
      "source": [
        "# Comparison Operators\n",
        "'''\n",
        "==\tEqual\tx == y\n",
        "!=\tNot equal\tx != y\n",
        ">\tGreater than\tx > y\n",
        "<\tLess than\tx < y\n",
        ">=\tGreater than or equal to\tx >= y\n",
        "<=\tLess than or equal to\tx <= y\n",
        "'''\n",
        "print(x==y)\n",
        "print(x!=y)\n",
        "print(x>y)\n",
        "print(x<y)\n",
        "print(x>=y)  # Minimum one condition True.\n",
        "print(x<=y)  # Minimum one condition True."
      ],
      "metadata": {
        "colab": {
          "base_uri": "https://localhost:8080/"
        },
        "id": "_EVKKsQJlC_h",
        "outputId": "0f90718f-6db4-4311-fda8-d8b52a31795f"
      },
      "execution_count": null,
      "outputs": [
        {
          "output_type": "stream",
          "name": "stdout",
          "text": [
            "False\n",
            "True\n",
            "True\n",
            "False\n",
            "True\n",
            "False\n"
          ]
        }
      ]
    },
    {
      "cell_type": "code",
      "source": [
        "# Logical Operators\n",
        "# and\n",
        "# or\n",
        "# not\n",
        "a = 10\n",
        "b = 5\n",
        "print(a>b and a!=b)         # Both conditions are true.\n",
        "print(a==b or a!=b)         # Minimum one condition is true.\n",
        "print(not (a>b and a!=b))   # Reverse the output True➡️False, False➡️True.\n"
      ],
      "metadata": {
        "colab": {
          "base_uri": "https://localhost:8080/"
        },
        "id": "tPahfyJkmUul",
        "outputId": "057b16d4-69b7-49ce-bfc1-a63bb6c36628"
      },
      "execution_count": null,
      "outputs": [
        {
          "output_type": "stream",
          "name": "stdout",
          "text": [
            "True\n",
            "True\n",
            "False\n"
          ]
        }
      ]
    },
    {
      "cell_type": "markdown",
      "source": [
        "** 1) SIMPLE CALCULATOR PROGRAM**"
      ],
      "metadata": {
        "id": "iWQQUfjqoQ_w"
      }
    },
    {
      "cell_type": "code",
      "source": [
        "# Create a simple calculator program taking 2 inputs\n",
        "# from user and printing different arithemtic outputs.\n",
        "a = int (input(\"Enter fist number:\"))\n",
        "b = int (input(\"Enter second number:\"))\n",
        "print(f\"Addition of {a} and {b} is {a+b}\")\n",
        "print(f\"Subtraction of {a} and {b} is {a-b}\")\n",
        "print(f\"Multiplication of {a} and {b} is {a*b}\")\n",
        "print(f\"Division of {a} and {b} is {a/b}\")\n",
        "print(f\"Floor Division of {a} and {b} is {a//b}\")\n",
        "print(f\"Modulus/Remainder of {a} and {b} is {a%b}\")\n",
        "print(f\"Exponent/Power of {a} and {b} is {a**b}\")\n"
      ],
      "metadata": {
        "colab": {
          "base_uri": "https://localhost:8080/"
        },
        "id": "hgbtpA8MoP88",
        "outputId": "46da6694-f2ee-4e43-b0ae-05f4634d8191"
      },
      "execution_count": 1,
      "outputs": [
        {
          "output_type": "stream",
          "name": "stdout",
          "text": [
            "Enter fist number:10\n",
            "Enter second number:5\n",
            "Addition of 10 and 5 is 15\n",
            "Subtraction of 10 and 5 is 5\n",
            "Multiplication of 10 and 5 is 50\n",
            "Division of 10 and 5 is 2.0\n",
            "Floor Division of 10 and 5 is 2\n",
            "Modulus/Remainder of 10 and 5 is 0\n",
            "Exponent/Power of 10 and 5 is 100000\n"
          ]
        }
      ]
    },
    {
      "cell_type": "markdown",
      "source": [
        "**CONDITIONAL STATEMENTS**"
      ],
      "metadata": {
        "id": "NIiNB7Hqr5ix"
      }
    },
    {
      "cell_type": "code",
      "source": [
        "# Decision making statements\n",
        "a = 1\n",
        "if a>5:\n",
        "  print(\"a is greater than 5\")\n",
        "else:\n",
        "  print(\"a is less than 5\")"
      ],
      "metadata": {
        "colab": {
          "base_uri": "https://localhost:8080/"
        },
        "id": "G3js0PaBr3He",
        "outputId": "f80ac718-7eb2-4093-d464-dc967b72eff1"
      },
      "execution_count": null,
      "outputs": [
        {
          "output_type": "stream",
          "name": "stdout",
          "text": [
            "a is less than 5\n"
          ]
        }
      ]
    },
    {
      "cell_type": "markdown",
      "source": [
        "**2) WRITE A PROGRAM TO FIND THE NUMBER IS EVEN OR NOT **"
      ],
      "metadata": {
        "id": "bplrvMIVtIvO"
      }
    },
    {
      "cell_type": "code",
      "source": [
        "a = int(input(\"Enter the number: \"))\n",
        "if a%2==0:\n",
        "  print(f\"The number {a} is even.\")\n",
        "else:\n",
        "  print(f\"The number {a} is odd.\")\n"
      ],
      "metadata": {
        "colab": {
          "base_uri": "https://localhost:8080/"
        },
        "id": "W1i4PUwDs8Bs",
        "outputId": "a775453c-c7ce-4295-d801-6e6904bfaf22"
      },
      "execution_count": null,
      "outputs": [
        {
          "output_type": "stream",
          "name": "stdout",
          "text": [
            "Enter the number: 3\n",
            "The number 3 is odd.\n"
          ]
        }
      ]
    },
    {
      "cell_type": "code",
      "source": [
        "# elif\n",
        "'''\n",
        "if condition:\n",
        "  statement\n",
        "elif condition:\n",
        "  statement\n",
        "else:\n",
        "  statement\n",
        "'''"
      ],
      "metadata": {
        "id": "7KF_f3AjxULi"
      },
      "execution_count": null,
      "outputs": []
    },
    {
      "cell_type": "code",
      "source": [
        "# Nested conditonals\n",
        "# Number EVEN, ODD, NEGATIVE\n",
        "a = int(input(\"Enter the number: \"))\n",
        "if a%2==0:\n",
        "  if a>0:\n",
        "    print(f\"The number {a} is Even and Positive.\")\n",
        "  else:\n",
        "    print(f\"The number {a} is Negative.\")\n",
        "else:\n",
        "  print(f\"The number {a} is Odd and Positive.\")\n"
      ],
      "metadata": {
        "colab": {
          "base_uri": "https://localhost:8080/"
        },
        "id": "eVM7HnHsx3nb",
        "outputId": "8b643103-12e7-473e-eaab-75b17caae9a8"
      },
      "execution_count": null,
      "outputs": [
        {
          "output_type": "stream",
          "name": "stdout",
          "text": [
            "Enter the number: -4\n",
            "The number -4 is Negative.\n"
          ]
        }
      ]
    },
    {
      "cell_type": "markdown",
      "source": [
        "**1) Simple Calculator program to\n",
        "Take user input for operation using Conditionals.**"
      ],
      "metadata": {
        "id": "eOlGvMn-1IcY"
      }
    },
    {
      "cell_type": "code",
      "source": [
        "a = int(input(\"Enter first number:\"))\n",
        "b = int(input(\"Enter second number:\"))\n",
        "choice = input(\"Enter your choice:\")\n",
        "if choice=='+':\n",
        "  print(f'Addition of {a} and {b} is {a+b}')\n",
        "elif choice=='-':\n",
        "  print(f'Subtraction of {a} and {b} is {a-b}')\n",
        "elif choice==\"*\":\n",
        "  print(f\"Multiplication of {a} and {b} is {a*b}\")\n",
        "elif choice==\"/\":\n",
        "  print(f\"Division of {a} and {b} is {a/b}\")\n",
        "elif choice==\"//\":\n",
        "  print(f\"Floor Division of {a} and {b} is {a//b}\")\n",
        "elif choice==\"%\":\n",
        "  print(f\"Modulus/Remainder of {a} and {b} is {a%b}\")\n",
        "elif choice==\"**\":\n",
        "  print(f\"Exponent/Power of {a} and {b} is {a**b}\")\n",
        "else:\n",
        "  print(\"Invalid choice\")\n"
      ],
      "metadata": {
        "colab": {
          "base_uri": "https://localhost:8080/"
        },
        "id": "Vd8R4pba1kc5",
        "outputId": "4c1a561a-1fb2-4727-d08d-a5f0f6afc4cf"
      },
      "execution_count": 3,
      "outputs": [
        {
          "output_type": "stream",
          "name": "stdout",
          "text": [
            "Enter first number:10\n",
            "Enter second number:5\n",
            "Enter your choice:/\n",
            "Division of 10 and 5 is 2.0\n"
          ]
        }
      ]
    },
    {
      "cell_type": "markdown",
      "source": [
        "**2) A simple user login system that checks the username and password.**\n",
        "\n",
        "user = \"admin\"\n",
        "\n",
        "password = \"admin@123\""
      ],
      "metadata": {
        "id": "uBvRgeBO30PD"
      }
    },
    {
      "cell_type": "code",
      "source": [
        "user = \"lucky\"\n",
        "password = \"lucky@1234\"\n",
        "\n",
        "a = input(\"Enter your username:\")\n",
        "b = input(\"Enter your password:\")\n",
        "\n",
        "if user==a and password==b:\n",
        "  print(\"Login Successful\")\n",
        "elif user==a and password!=b:\n",
        "  print(\"Invalid password\")\n",
        "elif user!=a and password==b:\n",
        "  print(\"Invalid username\")\n",
        "else:\n",
        "  print(\"Invalid username and password\")"
      ],
      "metadata": {
        "id": "L4sGcNSV2qUK",
        "colab": {
          "base_uri": "https://localhost:8080/"
        },
        "outputId": "6302311e-769c-43ed-e921-d2d191511609"
      },
      "execution_count": 11,
      "outputs": [
        {
          "output_type": "stream",
          "name": "stdout",
          "text": [
            "Enter your username:lucky\n",
            "Enter your password:lucky@1234\n",
            "Login Successful\n"
          ]
        }
      ]
    },
    {
      "cell_type": "markdown",
      "source": [
        "**3) Write a program to calculate the grade of the marks using Conditional statements.**"
      ],
      "metadata": {
        "id": "NBp6eyuj4mLN"
      }
    },
    {
      "cell_type": "code",
      "source": [
        "name = input(\"Enter your name:\")\n",
        "m1 = float(input(\"Enter your English marks:\"))\n",
        "m2 = float(input(\"Enter your Physics marks:\"))\n",
        "m3 = float(input(\"Enter your Chemistry marks:\"))\n",
        "m5 = float(input(\"Enter your Computer Science marks:\"))\n",
        "m4 = float(input(\"Enter your Mathematics/Biology marks:\"))\n",
        "total = m1+m2+m3+m4+m5\n",
        "percentage = (total/500)*100\n",
        "# {percentage:.2f}% means take two number after the decimal.\n",
        "print(f\"{name} your total marks are {total} and your percentage is {percentage:.2f}%.\")\n",
        "\n",
        "if m1<33 or m2<33 or m3<33 or m4<33 or m5<33:\n",
        "  print(f\"{name} you have failed due to less than 33 marks in one or more subjects.\")\n",
        "\n",
        "else:\n",
        "    if percentage >=90:\n",
        "      print(f\"{name} your grade is A+\")\n",
        "      print(\"Excellent Performance\")\n",
        "    elif percentage >=80:\n",
        "      print(f\"{name} your grade is A\")\n",
        "      print(\"Very Good\")\n",
        "    elif percentage >=70:\n",
        "      print(f\"{name} your grade is B\")\n",
        "      print(\"Good\")\n",
        "    elif percentage >=50:\n",
        "      print(f\"{name} your grade is C\")\n",
        "      print(\"Keep working hard\")\n",
        "    else:\n",
        "      print(f\"{name} your grade is D\")\n",
        "      print(\"Needs Imrovement\")\n",
        ""
      ],
      "metadata": {
        "id": "YdIGlDT_4oQd",
        "colab": {
          "base_uri": "https://localhost:8080/"
        },
        "outputId": "3f855e0f-10c0-4122-afe4-5496a6f7a334"
      },
      "execution_count": 40,
      "outputs": [
        {
          "output_type": "stream",
          "name": "stdout",
          "text": [
            "Enter your name:Lucky\n",
            "Enter your English marks:85\n",
            "Enter your Physics marks:90\n",
            "Enter your Chemistry marks:94\n",
            "Enter your Computer Science marks:99\n",
            "Enter your Mathematics/Biology marks:85\n",
            "Lucky your total marks are 453.0 and your percentage is 90.60%.\n",
            "Lucky your grade is A+\n",
            "Excellent Performance\n"
          ]
        }
      ]
    }
  ]
}